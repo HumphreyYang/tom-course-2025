{
 "cells": [
  {
   "cell_type": "markdown",
   "id": "9aca8842",
   "metadata": {},
   "source": [
    "# Execution Statistics\n",
    "\n",
    "This table contains the latest execution statistics.\n",
    "\n",
    "```{nb-exec-table}\n",
    "```\n",
    "\n",
    "(status:machine-details)=\n",
    "\n",
    "These lectures are built on `linux` instances through `github actions`. \n",
    "\n",
    "These lectures are using the following python version"
   ]
  },
  {
   "cell_type": "code",
   "execution_count": null,
   "id": "0cdf2fdf",
   "metadata": {},
   "outputs": [],
   "source": [
    "!python --version"
   ]
  },
  {
   "cell_type": "markdown",
   "id": "b471e428",
   "metadata": {},
   "source": [
    "and the following package versions"
   ]
  },
  {
   "cell_type": "code",
   "execution_count": null,
   "id": "758bf3b8",
   "metadata": {
    "tags": [
     "hide-output"
    ]
   },
   "outputs": [],
   "source": [
    "!conda list"
   ]
  },
  {
   "cell_type": "markdown",
   "id": "a4f3b856",
   "metadata": {},
   "source": [
    "This lecture series also has access to the following GPU"
   ]
  },
  {
   "cell_type": "code",
   "execution_count": null,
   "id": "31ace76b",
   "metadata": {},
   "outputs": [],
   "source": [
    "!nvidia-smi"
   ]
  }
 ],
 "metadata": {
  "jupytext": {
   "text_representation": {
    "extension": ".md",
    "format_name": "myst"
   }
  },
  "kernelspec": {
   "display_name": "Python 3",
   "language": "python",
   "name": "python3"
  },
  "source_map": [
   10,
   25,
   27,
   31,
   34,
   38
  ]
 },
 "nbformat": 4,
 "nbformat_minor": 5
}