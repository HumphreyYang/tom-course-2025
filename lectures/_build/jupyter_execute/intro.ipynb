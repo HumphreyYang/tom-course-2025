{
 "cells": [
  {
   "cell_type": "markdown",
   "id": "39536f59",
   "metadata": {},
   "source": [
    "# Tom's Course\n",
    "\n",
    "This website presents lectures for Tom's Course 2025\n",
    "\n",
    "```{tableofcontents}\n",
    "```"
   ]
  }
 ],
 "metadata": {
  "jupytext": {
   "text_representation": {
    "extension": ".md",
    "format_name": "myst"
   }
  },
  "kernelspec": {
   "display_name": "Python 3",
   "language": "python",
   "name": "python3"
  },
  "source_map": [
   10
  ]
 },
 "nbformat": 4,
 "nbformat_minor": 5
}