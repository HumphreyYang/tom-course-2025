{
 "cells": [
  {
   "cell_type": "code",
   "execution_count": 1,
   "id": "f7b26374",
   "metadata": {
    "tags": [
     "hide-output"
    ]
   },
   "outputs": [
    {
     "name": "stdout",
     "output_type": "stream",
     "text": [
      "Requirement already satisfied: quantecon in /Users/mmcky/anaconda3/envs/quantecon/lib/python3.12/site-packages (0.7.2)\r\n",
      "Requirement already satisfied: numba>=0.49.0 in /Users/mmcky/anaconda3/envs/quantecon/lib/python3.12/site-packages (from quantecon) (0.60.0)\r\n",
      "Requirement already satisfied: numpy>=1.17.0 in /Users/mmcky/anaconda3/envs/quantecon/lib/python3.12/site-packages (from quantecon) (1.26.4)\r\n",
      "Requirement already satisfied: requests in /Users/mmcky/anaconda3/envs/quantecon/lib/python3.12/site-packages (from quantecon) (2.32.3)\r\n",
      "Requirement already satisfied: scipy>=1.5.0 in /Users/mmcky/anaconda3/envs/quantecon/lib/python3.12/site-packages (from quantecon) (1.13.1)\r\n",
      "Requirement already satisfied: sympy in /Users/mmcky/anaconda3/envs/quantecon/lib/python3.12/site-packages (from quantecon) (1.13.1)\r\n",
      "Requirement already satisfied: llvmlite<0.44,>=0.43.0dev0 in /Users/mmcky/anaconda3/envs/quantecon/lib/python3.12/site-packages (from numba>=0.49.0->quantecon) (0.43.0)\r\n",
      "Requirement already satisfied: charset-normalizer<4,>=2 in /Users/mmcky/anaconda3/envs/quantecon/lib/python3.12/site-packages (from requests->quantecon) (3.3.2)\r\n",
      "Requirement already satisfied: idna<4,>=2.5 in /Users/mmcky/anaconda3/envs/quantecon/lib/python3.12/site-packages (from requests->quantecon) (3.7)\r\n",
      "Requirement already satisfied: urllib3<3,>=1.21.1 in /Users/mmcky/anaconda3/envs/quantecon/lib/python3.12/site-packages (from requests->quantecon) (2.2.3)\r\n",
      "Requirement already satisfied: certifi>=2017.4.17 in /Users/mmcky/anaconda3/envs/quantecon/lib/python3.12/site-packages (from requests->quantecon) (2024.8.30)\r\n",
      "Requirement already satisfied: mpmath<1.4,>=1.1.0 in /Users/mmcky/anaconda3/envs/quantecon/lib/python3.12/site-packages (from sympy->quantecon) (1.3.0)\r\n"
     ]
    }
   ],
   "source": [
    "!pip install quantecon"
   ]
  },
  {
   "cell_type": "code",
   "execution_count": 2,
   "id": "dc6d5c80",
   "metadata": {},
   "outputs": [],
   "source": [
    "import numpy as np\n",
    "from quantecon import LQ\n",
    "from scipy.linalg import schur"
   ]
  },
  {
   "cell_type": "code",
   "execution_count": 3,
   "id": "a65e913f",
   "metadata": {},
   "outputs": [],
   "source": [
    "# Model parameters\n",
    "r = 0.05\n",
    "c_bar = 2\n",
    "μ = 1\n",
    "\n",
    "# Formulate as an LQ problem\n",
    "Q = np.array([[1]])\n",
    "R = np.zeros((2, 2))\n",
    "A = [[1 + r, -c_bar + μ],\n",
    "     [0,              1]]\n",
    "B = [[-1],\n",
    "     [0]]\n",
    "\n",
    "# Construct an LQ instance\n",
    "lq = LQ(Q, R, A, B)"
   ]
  },
  {
   "cell_type": "code",
   "execution_count": 4,
   "id": "29dd32eb",
   "metadata": {},
   "outputs": [],
   "source": [
    "def construct_LNM(A, B, Q, R):\n",
    "\n",
    "    n, k = lq.n, lq.k\n",
    "\n",
    "    # construct L and N\n",
    "    L = np.zeros((2*n, 2*n))\n",
    "    L[:n, :n] = np.eye(n)\n",
    "    L[:n, n:] = B @ np.linalg.inv(Q) @ B.T\n",
    "    L[n:, n:] = A.T\n",
    "\n",
    "    N = np.zeros((2*n, 2*n))\n",
    "    N[:n, :n] = A\n",
    "    N[n:, :n] = -R\n",
    "    N[n:, n:] = np.eye(n)\n",
    "\n",
    "    # compute M\n",
    "    M = np.linalg.inv(L) @ N\n",
    "\n",
    "    return L, N, M"
   ]
  },
  {
   "cell_type": "code",
   "execution_count": 5,
   "id": "ca7b61d0",
   "metadata": {},
   "outputs": [],
   "source": [
    "L, N, M = construct_LNM(lq.A, lq.B, lq.Q, lq.R)"
   ]
  },
  {
   "cell_type": "code",
   "execution_count": 6,
   "id": "586f25ae",
   "metadata": {},
   "outputs": [
    {
     "data": {
      "text/plain": [
       "array([[ 1.05      , -1.        , -0.95238095,  0.        ],\n",
       "       [ 0.        ,  1.        ,  0.        ,  0.        ],\n",
       "       [ 0.        ,  0.        ,  0.95238095,  0.        ],\n",
       "       [ 0.        ,  0.        ,  0.95238095,  1.        ]])"
      ]
     },
     "execution_count": 6,
     "metadata": {},
     "output_type": "execute_result"
    }
   ],
   "source": [
    "M"
   ]
  },
  {
   "cell_type": "code",
   "execution_count": 7,
   "id": "1b2f7b69",
   "metadata": {},
   "outputs": [
    {
     "data": {
      "text/plain": [
       "array([[-1.32169408e-17,  0.00000000e+00,  0.00000000e+00,\n",
       "         0.00000000e+00],\n",
       "       [ 0.00000000e+00,  0.00000000e+00,  0.00000000e+00,\n",
       "         0.00000000e+00],\n",
       "       [ 0.00000000e+00,  0.00000000e+00,  0.00000000e+00,\n",
       "         0.00000000e+00],\n",
       "       [ 0.00000000e+00,  0.00000000e+00,  0.00000000e+00,\n",
       "         0.00000000e+00]])"
      ]
     },
     "execution_count": 7,
     "metadata": {},
     "output_type": "execute_result"
    }
   ],
   "source": [
    "n = lq.n\n",
    "J = np.zeros((2*n, 2*n))\n",
    "J[n:, :n] = np.eye(n)\n",
    "J[:n, n:] = -np.eye(n)\n",
    "\n",
    "M @ J @ M.T - J"
   ]
  },
  {
   "cell_type": "code",
   "execution_count": 8,
   "id": "d121ca9e",
   "metadata": {},
   "outputs": [
    {
     "data": {
      "text/plain": [
       "[0.9523809523809523, 1.0, 1.0, 1.05]"
      ]
     },
     "execution_count": 8,
     "metadata": {},
     "output_type": "execute_result"
    }
   ],
   "source": [
    "eigvals = sorted(np.linalg.eigvals(M))\n",
    "eigvals"
   ]
  },
  {
   "cell_type": "code",
   "execution_count": 9,
   "id": "d5c75986",
   "metadata": {},
   "outputs": [],
   "source": [
    "stable_eigvals = eigvals[:n]\n",
    "\n",
    "def sort_fun(x):\n",
    "    \"Sort the eigenvalues with modules smaller than 1 to the top-left.\"\n",
    "\n",
    "    if x in stable_eigvals:\n",
    "        stable_eigvals.pop(stable_eigvals.index(x))\n",
    "        return True\n",
    "    else:\n",
    "        return False\n",
    "\n",
    "W, V, _ = schur(M, sort=sort_fun)"
   ]
  },
  {
   "cell_type": "code",
   "execution_count": 10,
   "id": "1faed213",
   "metadata": {},
   "outputs": [
    {
     "data": {
      "text/plain": [
       "array([[ 1.        ,  0.02316402,  1.00085948, -0.95000594],\n",
       "       [ 0.        ,  0.95238095, -0.00237501,  0.95325452],\n",
       "       [ 0.        ,  0.        ,  1.05      , -0.02432222],\n",
       "       [ 0.        ,  0.        ,  0.        ,  1.        ]])"
      ]
     },
     "execution_count": 10,
     "metadata": {},
     "output_type": "execute_result"
    }
   ],
   "source": [
    "W"
   ]
  },
  {
   "cell_type": "code",
   "execution_count": 11,
   "id": "9601099d",
   "metadata": {},
   "outputs": [
    {
     "data": {
      "text/plain": [
       "array([[ 0.99875234, -0.00121459,  0.04992284,  0.        ],\n",
       "       [ 0.04993762,  0.02429188, -0.99845688,  0.        ],\n",
       "       [ 0.        , -0.04992284, -0.00121459,  0.99875234],\n",
       "       [ 0.        ,  0.99845688,  0.02429188,  0.04993762]])"
      ]
     },
     "execution_count": 11,
     "metadata": {},
     "output_type": "execute_result"
    }
   ],
   "source": [
    "V"
   ]
  },
  {
   "cell_type": "code",
   "execution_count": 12,
   "id": "30ae8f3d",
   "metadata": {},
   "outputs": [
    {
     "data": {
      "text/plain": [
       "array([1.        , 0.95238095])"
      ]
     },
     "execution_count": 12,
     "metadata": {},
     "output_type": "execute_result"
    }
   ],
   "source": [
    "# W11\n",
    "np.diag(W[:n, :n])"
   ]
  },
  {
   "cell_type": "code",
   "execution_count": 13,
   "id": "981377b2",
   "metadata": {},
   "outputs": [
    {
     "data": {
      "text/plain": [
       "array([1.05, 1.  ])"
      ]
     },
     "execution_count": 13,
     "metadata": {},
     "output_type": "execute_result"
    }
   ],
   "source": [
    "# W22\n",
    "np.diag(W[n:, n:])"
   ]
  },
  {
   "cell_type": "code",
   "execution_count": 14,
   "id": "701c7745",
   "metadata": {},
   "outputs": [],
   "source": [
    "def stable_solution(M, verbose=True):\n",
    "    \"\"\"\n",
    "    Given a system of linear difference equations\n",
    "\n",
    "        y' = |a b| y\n",
    "        x' = |c d| x\n",
    "\n",
    "    which is potentially unstable, find the solution\n",
    "    by imposing stability.\n",
    "\n",
    "    Parameter\n",
    "    ---------\n",
    "    M : np.ndarray(float)\n",
    "        The matrix represents the linear difference equations system.\n",
    "    \"\"\"\n",
    "    n = M.shape[0] // 2\n",
    "    stable_eigvals = list(sorted(np.linalg.eigvals(M))[:n])\n",
    "\n",
    "    def sort_fun(x):\n",
    "        \"Sort the eigenvalues with modules smaller than 1 to the top-left.\"\n",
    "\n",
    "        if x in stable_eigvals:\n",
    "            stable_eigvals.pop(stable_eigvals.index(x))\n",
    "            return True\n",
    "        else:\n",
    "            return False\n",
    "\n",
    "    W, V, _ = schur(M, sort=sort_fun)\n",
    "    if verbose:\n",
    "        print('eigenvalues:\\n')\n",
    "        print('    W11: {}'.format(np.diag(W[:n, :n])))\n",
    "        print('    W22: {}'.format(np.diag(W[n:, n:])))\n",
    "\n",
    "    # compute V21 V11^{-1}\n",
    "    P = V[n:, :n] @ np.linalg.inv(V[:n, :n])\n",
    "\n",
    "    return W, V, P\n",
    "\n",
    "def stationary_P(lq, verbose=True):\n",
    "    \"\"\"\n",
    "    Computes the matrix :math:`P` that represent the value function\n",
    "\n",
    "         V(x) = x' P x\n",
    "\n",
    "    in the infinite horizon case. Computation is via imposing stability\n",
    "    on the solution path and using Schur decomposition.\n",
    "\n",
    "    Parameters\n",
    "    ----------\n",
    "    lq : qe.LQ\n",
    "        QuantEcon class for analyzing linear quadratic optimal control\n",
    "        problems of infinite horizon form.\n",
    "\n",
    "    Returns\n",
    "    -------\n",
    "    P : array_like(float)\n",
    "        P matrix in the value function representation.\n",
    "    \"\"\"\n",
    "\n",
    "    Q = lq.Q\n",
    "    R = lq.R\n",
    "    A = lq.A * lq.beta ** (1/2)\n",
    "    B = lq.B * lq.beta ** (1/2)\n",
    "\n",
    "    n, k = lq.n, lq.k\n",
    "\n",
    "    L, N, M = construct_LNM(A, B, Q, R)\n",
    "    W, V, P = stable_solution(M, verbose=verbose)\n",
    "\n",
    "    return P"
   ]
  },
  {
   "cell_type": "code",
   "execution_count": 15,
   "id": "885faa00",
   "metadata": {},
   "outputs": [
    {
     "name": "stdout",
     "output_type": "stream",
     "text": [
      "eigenvalues:\n",
      "\n",
      "    W11: [1.         0.95238095]\n",
      "    W22: [1.05 1.  ]\n"
     ]
    },
    {
     "data": {
      "text/plain": [
       "array([[ 0.1025, -2.05  ],\n",
       "       [-2.05  , 41.    ]])"
      ]
     },
     "execution_count": 15,
     "metadata": {},
     "output_type": "execute_result"
    }
   ],
   "source": [
    "# compute P\n",
    "stationary_P(lq)"
   ]
  },
  {
   "cell_type": "code",
   "execution_count": 16,
   "id": "7bad1ad7",
   "metadata": {},
   "outputs": [
    {
     "data": {
      "text/plain": [
       "(array([[ 0.1025, -2.05  ],\n",
       "        [-2.05  , 41.01  ]]),\n",
       " array([[-0.09761905,  1.95238095]]),\n",
       " 0)"
      ]
     },
     "execution_count": 16,
     "metadata": {},
     "output_type": "execute_result"
    }
   ],
   "source": [
    "lq.stationary_values()"
   ]
  },
  {
   "cell_type": "code",
   "execution_count": 17,
   "id": "1bcdf181",
   "metadata": {},
   "outputs": [
    {
     "name": "stdout",
     "output_type": "stream",
     "text": [
      "35.4 μs ± 722 ns per loop (mean ± std. dev. of 7 runs, 10,000 loops each)\n"
     ]
    }
   ],
   "source": [
    "%%timeit\n",
    "stationary_P(lq, verbose=False)"
   ]
  },
  {
   "cell_type": "code",
   "execution_count": 18,
   "id": "5c0ca524",
   "metadata": {},
   "outputs": [
    {
     "name": "stdout",
     "output_type": "stream",
     "text": [
      "575 μs ± 4.37 μs per loop (mean ± std. dev. of 7 runs, 1,000 loops each)\n"
     ]
    }
   ],
   "source": [
    "%%timeit\n",
    "lq.stationary_values()"
   ]
  },
  {
   "cell_type": "code",
   "execution_count": 19,
   "id": "412c9ccb",
   "metadata": {},
   "outputs": [],
   "source": [
    "def construct_H(ρ, λ, δ):\n",
    "    \"contruct matrix H given parameters.\"\n",
    "\n",
    "    H = np.empty((2, 2))\n",
    "    H[0, :] = ρ,δ\n",
    "    H[1, :] = - (1 - λ) / λ, 1 / λ\n",
    "\n",
    "    return H\n",
    "\n",
    "H = construct_H(ρ=.9, λ=.5, δ=0)"
   ]
  },
  {
   "cell_type": "code",
   "execution_count": 20,
   "id": "d22da307",
   "metadata": {},
   "outputs": [
    {
     "name": "stdout",
     "output_type": "stream",
     "text": [
      "eigenvalues:\n",
      "\n",
      "    W11: [0.9]\n",
      "    W22: [2.]\n"
     ]
    },
    {
     "data": {
      "text/plain": [
       "array([[0.90909091]])"
      ]
     },
     "execution_count": 20,
     "metadata": {},
     "output_type": "execute_result"
    }
   ],
   "source": [
    "W, V, P = stable_solution(H)\n",
    "P"
   ]
  },
  {
   "cell_type": "code",
   "execution_count": 21,
   "id": "42dc7c4e",
   "metadata": {},
   "outputs": [],
   "source": [
    "β = 1 / (1 + r)\n",
    "lq.beta = β"
   ]
  },
  {
   "cell_type": "code",
   "execution_count": 22,
   "id": "374a2d4f",
   "metadata": {},
   "outputs": [
    {
     "name": "stdout",
     "output_type": "stream",
     "text": [
      "eigenvalues:\n",
      "\n",
      "    W11: [0.97590007 0.97590007]\n",
      "    W22: [1.02469508 1.02469508]\n"
     ]
    },
    {
     "data": {
      "text/plain": [
       "array([[ 0.0525, -1.05  ],\n",
       "       [-1.05  , 21.    ]])"
      ]
     },
     "execution_count": 22,
     "metadata": {},
     "output_type": "execute_result"
    }
   ],
   "source": [
    "stationary_P(lq)"
   ]
  },
  {
   "cell_type": "code",
   "execution_count": 23,
   "id": "bbcdc627",
   "metadata": {},
   "outputs": [
    {
     "data": {
      "text/plain": [
       "(array([[ 0.0525, -1.05  ],\n",
       "        [-1.05  , 21.    ]]),\n",
       " array([[-0.05,  1.  ]]),\n",
       " 0.0)"
      ]
     },
     "execution_count": 23,
     "metadata": {},
     "output_type": "execute_result"
    }
   ],
   "source": [
    "lq.stationary_values()"
   ]
  }
 ],
 "metadata": {
  "jupytext": {
   "text_representation": {
    "extension": ".md",
    "format_name": "myst",
    "format_version": 0.13,
    "jupytext_version": "1.11.1"
   }
  },
  "kernelspec": {
   "display_name": "Python 3",
   "language": "python",
   "name": "python3"
  },
  "language_info": {
   "codemirror_mode": {
    "name": "ipython",
    "version": 3
   },
   "file_extension": ".py",
   "mimetype": "text/x-python",
   "name": "python",
   "nbconvert_exporter": "python",
   "pygments_lexer": "ipython3",
   "version": "3.12.7"
  },
  "source_map": [
   12,
   16,
   21,
   27,
   154,
   234,
   256,
   456,
   472,
   476,
   498,
   502,
   504,
   508,
   515,
   519,
   522,
   531,
   546,
   550,
   552,
   558,
   563,
   566,
   570,
   643,
   646,
   652,
   654,
   658,
   663,
   666,
   678,
   691,
   694,
   698,
   758,
   764,
   769,
   771,
   775,
   777,
   827
  ]
 },
 "nbformat": 4,
 "nbformat_minor": 5
}