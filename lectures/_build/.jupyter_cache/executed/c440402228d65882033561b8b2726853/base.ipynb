{
 "cells": [
  {
   "cell_type": "code",
   "execution_count": 1,
   "id": "32bb7369",
   "metadata": {
    "tags": [
     "hide-output"
    ]
   },
   "outputs": [
    {
     "name": "stdout",
     "output_type": "stream",
     "text": [
      "Requirement already satisfied: quantecon in /Users/mmcky/anaconda3/envs/quantecon/lib/python3.12/site-packages (0.7.2)\r\n"
     ]
    },
    {
     "name": "stdout",
     "output_type": "stream",
     "text": [
      "Requirement already satisfied: numba>=0.49.0 in /Users/mmcky/anaconda3/envs/quantecon/lib/python3.12/site-packages (from quantecon) (0.60.0)\r\n",
      "Requirement already satisfied: numpy>=1.17.0 in /Users/mmcky/anaconda3/envs/quantecon/lib/python3.12/site-packages (from quantecon) (1.26.4)\r\n",
      "Requirement already satisfied: requests in /Users/mmcky/anaconda3/envs/quantecon/lib/python3.12/site-packages (from quantecon) (2.32.3)\r\n",
      "Requirement already satisfied: scipy>=1.5.0 in /Users/mmcky/anaconda3/envs/quantecon/lib/python3.12/site-packages (from quantecon) (1.13.1)\r\n",
      "Requirement already satisfied: sympy in /Users/mmcky/anaconda3/envs/quantecon/lib/python3.12/site-packages (from quantecon) (1.13.1)\r\n",
      "Requirement already satisfied: llvmlite<0.44,>=0.43.0dev0 in /Users/mmcky/anaconda3/envs/quantecon/lib/python3.12/site-packages (from numba>=0.49.0->quantecon) (0.43.0)\r\n",
      "Requirement already satisfied: charset-normalizer<4,>=2 in /Users/mmcky/anaconda3/envs/quantecon/lib/python3.12/site-packages (from requests->quantecon) (3.3.2)\r\n",
      "Requirement already satisfied: idna<4,>=2.5 in /Users/mmcky/anaconda3/envs/quantecon/lib/python3.12/site-packages (from requests->quantecon) (3.7)\r\n",
      "Requirement already satisfied: urllib3<3,>=1.21.1 in /Users/mmcky/anaconda3/envs/quantecon/lib/python3.12/site-packages (from requests->quantecon) (2.2.3)\r\n",
      "Requirement already satisfied: certifi>=2017.4.17 in /Users/mmcky/anaconda3/envs/quantecon/lib/python3.12/site-packages (from requests->quantecon) (2024.8.30)\r\n",
      "Requirement already satisfied: mpmath<1.4,>=1.1.0 in /Users/mmcky/anaconda3/envs/quantecon/lib/python3.12/site-packages (from sympy->quantecon) (1.3.0)\r\n"
     ]
    },
    {
     "name": "stdout",
     "output_type": "stream",
     "text": [
      "Collecting optax\r\n"
     ]
    },
    {
     "name": "stdout",
     "output_type": "stream",
     "text": [
      "  Downloading optax-0.2.4-py3-none-any.whl.metadata (8.3 kB)\r\n"
     ]
    },
    {
     "name": "stdout",
     "output_type": "stream",
     "text": [
      "Collecting absl-py>=0.7.1 (from optax)\r\n",
      "  Using cached absl_py-2.1.0-py3-none-any.whl.metadata (2.3 kB)\r\n"
     ]
    },
    {
     "name": "stdout",
     "output_type": "stream",
     "text": [
      "Collecting chex>=0.1.87 (from optax)\r\n",
      "  Downloading chex-0.1.88-py3-none-any.whl.metadata (17 kB)\r\n"
     ]
    },
    {
     "name": "stdout",
     "output_type": "stream",
     "text": [
      "Requirement already satisfied: jax>=0.4.27 in /Users/mmcky/anaconda3/envs/quantecon/lib/python3.12/site-packages (from optax) (0.4.38)\r\n",
      "Requirement already satisfied: jaxlib>=0.4.27 in /Users/mmcky/anaconda3/envs/quantecon/lib/python3.12/site-packages (from optax) (0.4.38)\r\n",
      "Requirement already satisfied: numpy>=1.18.0 in /Users/mmcky/anaconda3/envs/quantecon/lib/python3.12/site-packages (from optax) (1.26.4)\r\n"
     ]
    },
    {
     "name": "stdout",
     "output_type": "stream",
     "text": [
      "Collecting etils[epy] (from optax)\r\n",
      "  Downloading etils-1.11.0-py3-none-any.whl.metadata (6.5 kB)\r\n"
     ]
    },
    {
     "name": "stdout",
     "output_type": "stream",
     "text": [
      "Requirement already satisfied: typing_extensions>=4.2.0 in /Users/mmcky/anaconda3/envs/quantecon/lib/python3.12/site-packages (from chex>=0.1.87->optax) (4.11.0)\r\n",
      "Requirement already satisfied: setuptools in /Users/mmcky/anaconda3/envs/quantecon/lib/python3.12/site-packages (from chex>=0.1.87->optax) (75.1.0)\r\n",
      "Requirement already satisfied: toolz>=0.9.0 in /Users/mmcky/anaconda3/envs/quantecon/lib/python3.12/site-packages (from chex>=0.1.87->optax) (0.12.0)\r\n",
      "Requirement already satisfied: ml_dtypes>=0.4.0 in /Users/mmcky/anaconda3/envs/quantecon/lib/python3.12/site-packages (from jax>=0.4.27->optax) (0.5.1)\r\n",
      "Requirement already satisfied: opt_einsum in /Users/mmcky/anaconda3/envs/quantecon/lib/python3.12/site-packages (from jax>=0.4.27->optax) (3.4.0)\r\n",
      "Requirement already satisfied: scipy>=1.10 in /Users/mmcky/anaconda3/envs/quantecon/lib/python3.12/site-packages (from jax>=0.4.27->optax) (1.13.1)\r\n",
      "Downloading optax-0.2.4-py3-none-any.whl (319 kB)\r\n"
     ]
    },
    {
     "name": "stdout",
     "output_type": "stream",
     "text": [
      "Using cached absl_py-2.1.0-py3-none-any.whl (133 kB)\r\n"
     ]
    },
    {
     "name": "stdout",
     "output_type": "stream",
     "text": [
      "Downloading chex-0.1.88-py3-none-any.whl (99 kB)\r\n"
     ]
    },
    {
     "name": "stdout",
     "output_type": "stream",
     "text": [
      "Downloading etils-1.11.0-py3-none-any.whl (165 kB)\r\n"
     ]
    },
    {
     "name": "stdout",
     "output_type": "stream",
     "text": [
      "Installing collected packages: etils, absl-py, chex, optax\r\n"
     ]
    },
    {
     "name": "stdout",
     "output_type": "stream",
     "text": [
      "Successfully installed absl-py-2.1.0 chex-0.1.88 etils-1.11.0 optax-0.2.4\r\n"
     ]
    },
    {
     "name": "stdout",
     "output_type": "stream",
     "text": [
      "Requirement already satisfied: statsmodels in /Users/mmcky/anaconda3/envs/quantecon/lib/python3.12/site-packages (0.14.2)\r\n"
     ]
    },
    {
     "name": "stdout",
     "output_type": "stream",
     "text": [
      "Collecting statsmodels\r\n"
     ]
    },
    {
     "name": "stdout",
     "output_type": "stream",
     "text": [
      "  Using cached statsmodels-0.14.4-cp312-cp312-macosx_11_0_arm64.whl.metadata (9.2 kB)\r\n",
      "Requirement already satisfied: numpy<3,>=1.22.3 in /Users/mmcky/anaconda3/envs/quantecon/lib/python3.12/site-packages (from statsmodels) (1.26.4)\r\n",
      "Requirement already satisfied: scipy!=1.9.2,>=1.8 in /Users/mmcky/anaconda3/envs/quantecon/lib/python3.12/site-packages (from statsmodels) (1.13.1)\r\n",
      "Requirement already satisfied: pandas!=2.1.0,>=1.4 in /Users/mmcky/anaconda3/envs/quantecon/lib/python3.12/site-packages (from statsmodels) (2.2.2)\r\n",
      "Requirement already satisfied: patsy>=0.5.6 in /Users/mmcky/anaconda3/envs/quantecon/lib/python3.12/site-packages (from statsmodels) (0.5.6)\r\n",
      "Requirement already satisfied: packaging>=21.3 in /Users/mmcky/anaconda3/envs/quantecon/lib/python3.12/site-packages (from statsmodels) (24.1)\r\n",
      "Requirement already satisfied: python-dateutil>=2.8.2 in /Users/mmcky/anaconda3/envs/quantecon/lib/python3.12/site-packages (from pandas!=2.1.0,>=1.4->statsmodels) (2.9.0.post0)\r\n",
      "Requirement already satisfied: pytz>=2020.1 in /Users/mmcky/anaconda3/envs/quantecon/lib/python3.12/site-packages (from pandas!=2.1.0,>=1.4->statsmodels) (2024.2)\r\n",
      "Requirement already satisfied: tzdata>=2022.7 in /Users/mmcky/anaconda3/envs/quantecon/lib/python3.12/site-packages (from pandas!=2.1.0,>=1.4->statsmodels) (2023.3)\r\n",
      "Requirement already satisfied: six in /Users/mmcky/anaconda3/envs/quantecon/lib/python3.12/site-packages (from patsy>=0.5.6->statsmodels) (1.16.0)\r\n",
      "Using cached statsmodels-0.14.4-cp312-cp312-macosx_11_0_arm64.whl (9.9 MB)\r\n"
     ]
    },
    {
     "name": "stdout",
     "output_type": "stream",
     "text": [
      "Installing collected packages: statsmodels\r\n",
      "  Attempting uninstall: statsmodels\r\n",
      "    Found existing installation: statsmodels 0.14.2\r\n"
     ]
    },
    {
     "name": "stdout",
     "output_type": "stream",
     "text": [
      "    Uninstalling statsmodels-0.14.2:\r\n"
     ]
    },
    {
     "name": "stdout",
     "output_type": "stream",
     "text": [
      "      Successfully uninstalled statsmodels-0.14.2\r\n"
     ]
    },
    {
     "name": "stdout",
     "output_type": "stream",
     "text": [
      "Successfully installed statsmodels-0.14.4\r\n"
     ]
    }
   ],
   "source": [
    "!pip install --upgrade quantecon\n",
    "!pip install --upgrade optax\n",
    "!pip install --upgrade statsmodels"
   ]
  },
  {
   "cell_type": "code",
   "execution_count": 2,
   "id": "ec1e8b6b",
   "metadata": {},
   "outputs": [],
   "source": [
    "from quantecon import LQ\n",
    "import numpy as np\n",
    "import jax.numpy as jnp\n",
    "from jax import jit, grad\n",
    "import optax\n",
    "import statsmodels.api as sm\n",
    "import matplotlib.pyplot as plt"
   ]
  },
  {
   "cell_type": "code",
   "execution_count": 3,
   "id": "ddd38106",
   "metadata": {
    "tags": [
     "hide-input"
    ]
   },
   "outputs": [],
   "source": [
    "class ChangLQ:\n",
    "    \"\"\"\n",
    "    Class to solve LQ Chang model\n",
    "    \"\"\"\n",
    "    def __init__(self, β, c, α=1, u0=1, u1=0.5, u2=3, T=1000, θ_n=200):\n",
    "        # Record parameters\n",
    "        self.α, self.u0, self.u1, self.u2 = α, u0, u1, u2\n",
    "        self.β, self.c, self.T, self.θ_n = β, c, T, θ_n\n",
    "\n",
    "        self.setup_LQ_matrices()\n",
    "        self.solve_LQ_problem()\n",
    "        self.compute_policy_functions()\n",
    "        self.simulate_ramsey_plan()\n",
    "        self.compute_θ_range()\n",
    "        self.compute_value_and_policy()\n",
    "\n",
    "    def setup_LQ_matrices(self):\n",
    "        # LQ Matrices\n",
    "        self.R = -np.array([[self.u0, -self.u1 * self.α / 2],\n",
    "                            [-self.u1 * self.α / 2, \n",
    "                             -self.u2 * self.α**2 / 2]])\n",
    "        self.Q = -np.array([[-self.c / 2]])\n",
    "        self.A = np.array([[1, 0], [0, (1 + self.α) / self.α]])\n",
    "        self.B = np.array([[0], [-1 / self.α]])\n",
    "\n",
    "    def solve_LQ_problem(self):\n",
    "        # Solve LQ Problem (Subproblem 1)\n",
    "        lq = LQ(self.Q, self.R, self.A, self.B, beta=self.β)\n",
    "        self.P, self.F, self.d = lq.stationary_values()\n",
    "\n",
    "        # Compute g0, g1, and g2 (41.16)\n",
    "        self.g0, self.g1, self.g2 = [-self.P[0, 0], \n",
    "                                     -2 * self.P[1, 0], -self.P[1, 1]]\n",
    "        \n",
    "        # Compute b0 and b1 (41.17)\n",
    "        [[self.b0, self.b1]] = self.F\n",
    "\n",
    "        # Compute d0 and d1 (41.18)\n",
    "        self.cl_mat = (self.A - self.B @ self.F)  # Closed loop matrix\n",
    "        [[self.d0, self.d1]] = self.cl_mat[1:]\n",
    "\n",
    "        # Solve Subproblem 2\n",
    "        self.θ_R = -self.P[0, 1] / self.P[1, 1]\n",
    "        \n",
    "        # Find the bliss level of θ\n",
    "        self.θ_B = -self.u1 / (self.u2 * self.α)\n",
    "\n",
    "    def compute_policy_functions(self):\n",
    "        # Solve the Markov Perfect Equilibrium\n",
    "        self.μ_MPE = -self.u1 / ((1 + self.α) / self.α * self.c \n",
    "                                 + self.α / (1 + self.α)\n",
    "                                 * self.u2 + self.α**2 \n",
    "                                 / (1 + self.α) * self.u2)\n",
    "        self.θ_MPE = self.μ_MPE\n",
    "        self.μ_CR = -self.α * self.u1 / (self.u2 * self.α**2 + self.c)\n",
    "        self.θ_CR = self.μ_CR\n",
    "\n",
    "        # Calculate value under MPE and CR economy\n",
    "        self.J_θ = lambda θ_array: - np.array([1, θ_array]) \\\n",
    "                                   @ self.P @ np.array([1, θ_array]).T\n",
    "        self.V_θ = lambda θ: (self.u0 + self.u1 * (-self.α * θ)\n",
    "                              - self.u2 / 2 * (-self.α * θ)**2 \n",
    "                              - self.c / 2 * θ**2) / (1 - self.β)\n",
    "        \n",
    "        self.J_MPE = self.V_θ(self.μ_MPE)\n",
    "        self.J_CR = self.V_θ(self.μ_CR)\n",
    "\n",
    "    def simulate_ramsey_plan(self):\n",
    "        # Simulate Ramsey plan for large number of periods\n",
    "        θ_series = np.vstack((np.ones((1, self.T)), np.zeros((1, self.T))))\n",
    "        μ_series = np.zeros(self.T)\n",
    "        J_series = np.zeros(self.T)\n",
    "        θ_series[1, 0] = self.θ_R\n",
    "        [μ_series[0]] = -self.F.dot(θ_series[:, 0])\n",
    "        J_series[0] = self.J_θ(θ_series[1, 0])\n",
    "\n",
    "        for i in range(1, self.T):\n",
    "            θ_series[:, i] = self.cl_mat @ θ_series[:, i-1]\n",
    "            [μ_series[i]] = -self.F @ θ_series[:, i]\n",
    "            J_series[i] = self.J_θ(θ_series[1, i])\n",
    "\n",
    "        self.J_series = J_series\n",
    "        self.μ_series = μ_series\n",
    "        self.θ_series = θ_series\n",
    "\n",
    "    def compute_θ_range(self):\n",
    "        # Find the range of θ in Ramsey plan\n",
    "        θ_LB = min(min(self.θ_series[1, :]), self.θ_B)\n",
    "        θ_UB = max(max(self.θ_series[1, :]), self.θ_MPE)\n",
    "        θ_range = θ_UB - θ_LB\n",
    "        self.θ_LB = θ_LB - 0.05 * θ_range\n",
    "        self.θ_UB = θ_UB + 0.05 * θ_range\n",
    "        self.θ_range = θ_range\n",
    "\n",
    "    def compute_value_and_policy(self):        \n",
    "        # Create the θ_space\n",
    "        self.θ_space = np.linspace(self.θ_LB, self.θ_UB, 200)\n",
    "        \n",
    "        # Find value function and policy functions over range of θ\n",
    "        self.J_space = np.array([self.J_θ(θ) for θ in self.θ_space])\n",
    "        self.μ_space = -self.F @ np.vstack((np.ones(200), self.θ_space))\n",
    "        x_prime = self.cl_mat @ np.vstack((np.ones(200), self.θ_space))\n",
    "        self.θ_prime = x_prime[1, :]\n",
    "        self.CR_space = np.array([self.V_θ(θ) for θ in self.θ_space])\n",
    "        \n",
    "        self.μ_space = self.μ_space[0, :]\n",
    "        \n",
    "        # Calculate J_range, J_LB, and J_UB\n",
    "        self.J_range = np.ptp(self.J_space)\n",
    "        self.J_LB = np.min(self.J_space) - 0.05 * self.J_range\n",
    "        self.J_UB = np.max(self.J_space) + 0.05 * self.J_range"
   ]
  },
  {
   "cell_type": "code",
   "execution_count": 4,
   "id": "7c19bc3c",
   "metadata": {},
   "outputs": [],
   "source": [
    "# Assume β=0.85, c=2, T=40.\n",
    "T = 40\n",
    "clq = ChangLQ(β=0.85, c=2, T=T)"
   ]
  },
  {
   "cell_type": "code",
   "execution_count": 5,
   "id": "326c77b8",
   "metadata": {},
   "outputs": [],
   "source": [
    "@jit\n",
    "def compute_θ(μ, α=1):\n",
    "    λ = α / (1 + α)\n",
    "    T = len(μ) - 1\n",
    "    μbar = μ[-1]\n",
    "    \n",
    "    # Create an array of powers for λ\n",
    "    λ_powers = λ ** jnp.arange(T + 1)\n",
    "    \n",
    "    # Compute the weighted sums for all t\n",
    "    weighted_sums = jnp.array(\n",
    "        [jnp.sum(λ_powers[:T-t] * μ[t:T]) for t in range(T)])\n",
    "    \n",
    "    # Compute θ values except for the last element\n",
    "    θ = (1 - λ) * weighted_sums + λ**(T - jnp.arange(T)) * μbar\n",
    "    \n",
    "    # Set the last element\n",
    "    θ = jnp.append(θ, μbar)\n",
    "    \n",
    "    return θ\n",
    "\n",
    "@jit\n",
    "def compute_hs(u0, u1, u2, α):\n",
    "    h0 = u0\n",
    "    h1 = -u1 * α\n",
    "    h2 = -0.5 * u2 * α**2\n",
    "    \n",
    "    return h0, h1, h2\n",
    "    \n",
    "@jit\n",
    "def compute_V(μ, β, c, α=1, u0=1, u1=0.5, u2=3):\n",
    "    θ = compute_θ(μ, α)\n",
    "    \n",
    "    h0, h1, h2 = compute_hs(u0, u1, u2, α)\n",
    "    \n",
    "    T = len(μ) - 1\n",
    "    t = np.arange(T)\n",
    "    \n",
    "    # Compute sum except for the last element\n",
    "    V_sum = np.sum(β**t * (h0 + h1 * θ[:T] + h2 * θ[:T]**2 - 0.5 * c * μ[:T]**2))\n",
    "    \n",
    "    # Compute the final term\n",
    "    V_final = (β**T / (1 - β)) * (h0 + h1 * μ[-1] + h2 * μ[-1]**2 - 0.5 * c * μ[-1]**2)\n",
    "    \n",
    "    V = V_sum + V_final\n",
    "    \n",
    "    return V"
   ]
  },
  {
   "cell_type": "code",
   "execution_count": 6,
   "id": "a95abd28",
   "metadata": {},
   "outputs": [
    {
     "name": "stdout",
     "output_type": "stream",
     "text": [
      "deviation = 9.5367431640625e-07\n"
     ]
    }
   ],
   "source": [
    "V_val = compute_V(clq.μ_series, β=0.85, c=2)\n",
    "\n",
    "# Check the result with the ChangLQ class in previous lecture\n",
    "print(f'deviation = {np.abs(V_val - clq.J_series[0])}') # good!"
   ]
  },
  {
   "cell_type": "code",
   "execution_count": 7,
   "id": "f842efed",
   "metadata": {},
   "outputs": [],
   "source": [
    "def adam_optimizer(grad_func, init_params, \n",
    "                   lr=0.1, \n",
    "                   max_iter=10_000, \n",
    "                   error_tol=1e-7):\n",
    "\n",
    "    # Set initial parameters and optimizer\n",
    "    params = init_params\n",
    "    optimizer = optax.adam(learning_rate=lr)\n",
    "    opt_state = optimizer.init(params)\n",
    "\n",
    "    # Update parameters and gradients\n",
    "    @jit\n",
    "    def update(params, opt_state):\n",
    "        grads = grad_func(params)\n",
    "        updates, opt_state = optimizer.update(grads, opt_state)\n",
    "        params = optax.apply_updates(params, updates)\n",
    "        return params, opt_state, grads\n",
    "\n",
    "    # Gradient descent loop\n",
    "    for i in range(max_iter):\n",
    "        params, opt_state, grads = update(params, opt_state)\n",
    "        \n",
    "        if jnp.linalg.norm(grads) < error_tol:\n",
    "            print(f\"Converged after {i} iterations.\")\n",
    "            break\n",
    "\n",
    "        if i % 100 == 0: \n",
    "            print(f\"Iteration {i}, grad norm: {jnp.linalg.norm(grads)}\")\n",
    "    \n",
    "    return params"
   ]
  },
  {
   "cell_type": "code",
   "execution_count": 8,
   "id": "f53ef975",
   "metadata": {
    "tags": [
     "scroll-output"
    ]
   },
   "outputs": [],
   "source": [
    "# Initial guess for μ\n",
    "μ_init = jnp.zeros(T)\n",
    "\n",
    "# Maximization instead of minimization\n",
    "grad_V = jit(grad(\n",
    "    lambda μ: -compute_V(μ, β=0.85, c=2)))"
   ]
  },
  {
   "cell_type": "code",
   "execution_count": 9,
   "id": "6f6db357",
   "metadata": {},
   "outputs": [
    {
     "name": "stdout",
     "output_type": "stream",
     "text": [
      "Iteration 0, grad norm: 0.8627105951309204\n",
      "Iteration 100, grad norm: 0.003303048899397254\n",
      "Iteration 200, grad norm: 1.6914522348088212e-05\n",
      "Converged after 286 iterations.\n",
      "optimized μ = \n",
      "[-0.06450713 -0.09033986 -0.1006849  -0.10482774 -0.10648678 -0.10715117\n",
      " -0.10741721 -0.10752378 -0.10756645 -0.10758355 -0.10759039 -0.10759313\n",
      " -0.10759424 -0.10759469 -0.10759486 -0.10759492 -0.10759494 -0.10759494\n",
      " -0.10759494 -0.10759498 -0.10759494 -0.10759494 -0.10759494 -0.10759497\n",
      " -0.10759496 -0.10759494 -0.10759495 -0.10759494 -0.10759494 -0.10759493\n",
      " -0.10759494 -0.10759497 -0.10759497 -0.107595   -0.107595   -0.10759501\n",
      " -0.10759502 -0.10759503 -0.10759503 -0.10759509]\n",
      "CPU times: user 459 ms, sys: 38.1 ms, total: 497 ms\n",
      "Wall time: 352 ms\n"
     ]
    }
   ],
   "source": [
    "%%time\n",
    "\n",
    "# Optimize μ\n",
    "optimized_μ = adam_optimizer(grad_V, μ_init)\n",
    "\n",
    "print(f\"optimized μ = \\n{optimized_μ}\")"
   ]
  },
  {
   "cell_type": "code",
   "execution_count": 10,
   "id": "28975965",
   "metadata": {},
   "outputs": [
    {
     "name": "stdout",
     "output_type": "stream",
     "text": [
      "original μ = \n",
      "[-0.06450708 -0.09033982 -0.10068489 -0.10482772 -0.10648677 -0.10715115\n",
      " -0.10741722 -0.10752377 -0.10756644 -0.10758352 -0.10759037 -0.10759311\n",
      " -0.1075942  -0.10759464 -0.10759482 -0.10759489 -0.10759492 -0.10759493\n",
      " -0.10759493 -0.10759494 -0.10759494 -0.10759494 -0.10759494 -0.10759494\n",
      " -0.10759494 -0.10759494 -0.10759494 -0.10759494 -0.10759494 -0.10759494\n",
      " -0.10759494 -0.10759494 -0.10759494 -0.10759494 -0.10759494 -0.10759494\n",
      " -0.10759494 -0.10759494 -0.10759494 -0.10759494]\n"
     ]
    }
   ],
   "source": [
    "print(f\"original μ = \\n{clq.μ_series}\")"
   ]
  },
  {
   "cell_type": "code",
   "execution_count": 11,
   "id": "febd9c3e",
   "metadata": {},
   "outputs": [
    {
     "name": "stdout",
     "output_type": "stream",
     "text": [
      "deviation = 2.8730659096254385e-07\n"
     ]
    }
   ],
   "source": [
    "print(f'deviation = {np.linalg.norm(optimized_μ - clq.μ_series)}')"
   ]
  },
  {
   "cell_type": "code",
   "execution_count": 12,
   "id": "f9ebf837",
   "metadata": {},
   "outputs": [
    {
     "data": {
      "text/plain": [
       "Array(6.8357825, dtype=float32)"
      ]
     },
     "execution_count": 12,
     "metadata": {},
     "output_type": "execute_result"
    }
   ],
   "source": [
    "compute_V(optimized_μ, β=0.85, c=2)"
   ]
  },
  {
   "cell_type": "code",
   "execution_count": 13,
   "id": "1a9ee5aa",
   "metadata": {},
   "outputs": [
    {
     "data": {
      "text/plain": [
       "Array(6.8357825, dtype=float32)"
      ]
     },
     "execution_count": 13,
     "metadata": {},
     "output_type": "execute_result"
    }
   ],
   "source": [
    "compute_V(clq.μ_series, β=0.85, c=2)"
   ]
  },
  {
   "cell_type": "code",
   "execution_count": 14,
   "id": "8c067688",
   "metadata": {},
   "outputs": [
    {
     "name": "stdout",
     "output_type": "stream",
     "text": [
      "Iteration 0, grad norm: 3.333333969116211\n",
      "Iteration 100, grad norm: 0.0049784183502197266\n",
      "Iteration 200, grad norm: 6.771087646484375e-05\n",
      "Converged after 282 iterations.\n",
      "optimized μ = \n",
      "[-0.10000004]\n"
     ]
    }
   ],
   "source": [
    "# Initial guess for single μ\n",
    "μ_init = jnp.zeros(1)\n",
    "\n",
    "# Maximization instead of minimization\n",
    "grad_V = jit(grad(\n",
    "    lambda μ: -compute_V(μ, β=0.85, c=2)))\n",
    "\n",
    "# Optimize μ\n",
    "optimized_μ_CR = adam_optimizer(grad_V, μ_init)\n",
    "\n",
    "print(f\"optimized μ = \\n{optimized_μ_CR}\")"
   ]
  },
  {
   "cell_type": "code",
   "execution_count": 15,
   "id": "32986554",
   "metadata": {},
   "outputs": [
    {
     "data": {
      "text/plain": [
       "3.7252903e-08"
      ]
     },
     "execution_count": 15,
     "metadata": {},
     "output_type": "execute_result"
    }
   ],
   "source": [
    "np.linalg.norm(clq.μ_CR - optimized_μ_CR)"
   ]
  },
  {
   "cell_type": "code",
   "execution_count": 16,
   "id": "2e9ce00c",
   "metadata": {},
   "outputs": [
    {
     "data": {
      "text/plain": [
       "Array(6.8333354, dtype=float32)"
      ]
     },
     "execution_count": 16,
     "metadata": {},
     "output_type": "execute_result"
    }
   ],
   "source": [
    "V_CR = compute_V(optimized_μ_CR, β=0.85, c=2)\n",
    "V_CR"
   ]
  },
  {
   "cell_type": "code",
   "execution_count": 17,
   "id": "3e033531",
   "metadata": {},
   "outputs": [
    {
     "data": {
      "text/plain": [
       "Array(6.8333344, dtype=float32)"
      ]
     },
     "execution_count": 17,
     "metadata": {},
     "output_type": "execute_result"
    }
   ],
   "source": [
    "compute_V(jnp.array([clq.μ_CR]), β=0.85, c=2)"
   ]
  },
  {
   "cell_type": "code",
   "execution_count": 18,
   "id": "7641b25c",
   "metadata": {},
   "outputs": [],
   "source": [
    "def construct_B(α, T):\n",
    "    λ = α / (1 + α)\n",
    "    \n",
    "    A = (jnp.eye(T, T) - λ*jnp.eye(T, T, k=1))/(1-λ)\n",
    "    A = A.at[-1, -1].set(A[-1, -1]*(1-λ))\n",
    "\n",
    "    B = jnp.linalg.inv(A)\n",
    "    return A, B"
   ]
  },
  {
   "cell_type": "code",
   "execution_count": 19,
   "id": "071fed23",
   "metadata": {},
   "outputs": [
    {
     "name": "stdout",
     "output_type": "stream",
     "text": [
      "A = \n",
      " [[ 2. -1.  0. ...  0.  0.  0.]\n",
      " [ 0.  2. -1. ...  0.  0.  0.]\n",
      " [ 0.  0.  2. ...  0.  0.  0.]\n",
      " ...\n",
      " [ 0.  0.  0. ...  2. -1.  0.]\n",
      " [ 0.  0.  0. ...  0.  2. -1.]\n",
      " [ 0.  0.  0. ...  0.  0.  1.]]\n"
     ]
    }
   ],
   "source": [
    "A, B = construct_B(α=clq.α, T=T)\n",
    "\n",
    "print(f'A = \\n {A}')"
   ]
  },
  {
   "cell_type": "code",
   "execution_count": 20,
   "id": "e607d9fd",
   "metadata": {},
   "outputs": [],
   "source": [
    "# Compute θ using optimized_μ\n",
    "θs = np.array(compute_θ(optimized_μ))\n",
    "μs = np.array(optimized_μ)"
   ]
  },
  {
   "cell_type": "code",
   "execution_count": 21,
   "id": "0c05425c",
   "metadata": {},
   "outputs": [
    {
     "data": {
      "text/plain": [
       "True"
      ]
     },
     "execution_count": 21,
     "metadata": {},
     "output_type": "execute_result"
    }
   ],
   "source": [
    "np.allclose(θs, B @ clq.μ_series)"
   ]
  },
  {
   "cell_type": "code",
   "execution_count": 22,
   "id": "3e887414",
   "metadata": {},
   "outputs": [],
   "source": [
    "def compute_J(μ, β, c, α=1, u0=1, u1=0.5, u2=3):\n",
    "    T = len(μ) - 1\n",
    "    \n",
    "    h0, h1, h2 = compute_hs(u0, u1, u2, α)\n",
    "    λ = α / (1 + α)\n",
    "    \n",
    "    _, B = construct_B(α, T+1)\n",
    "    \n",
    "    β_vec = jnp.hstack([β**jnp.arange(T),\n",
    "                       (β**T/(1-β))])\n",
    "    \n",
    "    θ = B @ μ\n",
    "    βθ_sum = jnp.sum((β_vec * h1) * θ)\n",
    "    βθ_square_sum = β_vec * h2 * θ.T @ θ\n",
    "    βμ_square_sum = 0.5 * c * β_vec * μ.T @ μ\n",
    "    \n",
    "    return βθ_sum + βθ_square_sum - βμ_square_sum"
   ]
  },
  {
   "cell_type": "code",
   "execution_count": 23,
   "id": "ea40ae96",
   "metadata": {},
   "outputs": [],
   "source": [
    "# Initial guess for μ\n",
    "μ_init = jnp.zeros(T)\n",
    "\n",
    "# Maximization instead of minimization\n",
    "grad_J = jit(grad(\n",
    "    lambda μ: -compute_J(μ, β=0.85, c=2)))"
   ]
  },
  {
   "cell_type": "code",
   "execution_count": 24,
   "id": "978f13ab",
   "metadata": {},
   "outputs": [
    {
     "name": "stdout",
     "output_type": "stream",
     "text": [
      "Iteration 0, grad norm: 0.8627105951309204\n",
      "Iteration 100, grad norm: 0.003303023288026452\n",
      "Iteration 200, grad norm: 1.6917430912144482e-05\n",
      "Converged after 280 iterations.\n",
      "optimized μ = \n",
      "[-0.0645071  -0.09033986 -0.10068493 -0.10482775 -0.10648679 -0.10715119\n",
      " -0.10741723 -0.10752378 -0.10756644 -0.10758354 -0.1075904  -0.10759313\n",
      " -0.10759426 -0.10759471 -0.10759488 -0.10759496 -0.10759498 -0.10759499\n",
      " -0.10759498 -0.10759497 -0.10759495 -0.10759497 -0.10759495 -0.10759498\n",
      " -0.10759497 -0.10759498 -0.10759499 -0.10759497 -0.10759497 -0.10759496\n",
      " -0.10759494 -0.10759495 -0.10759493 -0.10759494 -0.10759494 -0.10759495\n",
      " -0.10759496 -0.107595   -0.10759497 -0.10759496]\n",
      "CPU times: user 1.2 s, sys: 368 ms, total: 1.57 s\n",
      "Wall time: 250 ms\n"
     ]
    }
   ],
   "source": [
    "%%time\n",
    "\n",
    "# Optimize μ\n",
    "optimized_μ = adam_optimizer(grad_J, μ_init)\n",
    "\n",
    "print(f\"optimized μ = \\n{optimized_μ}\")"
   ]
  },
  {
   "cell_type": "code",
   "execution_count": 25,
   "id": "f05beb03",
   "metadata": {},
   "outputs": [
    {
     "name": "stdout",
     "output_type": "stream",
     "text": [
      "original μ = \n",
      "[-0.06450708 -0.09033982 -0.10068489 -0.10482772 -0.10648677 -0.10715115\n",
      " -0.10741722 -0.10752377 -0.10756644 -0.10758352 -0.10759037 -0.10759311\n",
      " -0.1075942  -0.10759464 -0.10759482 -0.10759489 -0.10759492 -0.10759493\n",
      " -0.10759493 -0.10759494 -0.10759494 -0.10759494 -0.10759494 -0.10759494\n",
      " -0.10759494 -0.10759494 -0.10759494 -0.10759494 -0.10759494 -0.10759494\n",
      " -0.10759494 -0.10759494 -0.10759494 -0.10759494 -0.10759494 -0.10759494\n",
      " -0.10759494 -0.10759494 -0.10759494 -0.10759494]\n"
     ]
    }
   ],
   "source": [
    "print(f\"original μ = \\n{clq.μ_series}\")"
   ]
  },
  {
   "cell_type": "code",
   "execution_count": 26,
   "id": "46d12c35",
   "metadata": {},
   "outputs": [
    {
     "name": "stdout",
     "output_type": "stream",
     "text": [
      "deviation = 2.318076610663411e-07\n"
     ]
    }
   ],
   "source": [
    "print(f'deviation = {np.linalg.norm(optimized_μ - clq.μ_series)}')"
   ]
  },
  {
   "cell_type": "code",
   "execution_count": 27,
   "id": "3ce1fd30",
   "metadata": {},
   "outputs": [
    {
     "data": {
      "text/plain": [
       "Array(6.8357825, dtype=float32)"
      ]
     },
     "execution_count": 27,
     "metadata": {},
     "output_type": "execute_result"
    }
   ],
   "source": [
    "V_R = compute_V(optimized_μ, β=0.85, c=2)\n",
    "V_R"
   ]
  },
  {
   "cell_type": "code",
   "execution_count": 28,
   "id": "e4cbead6",
   "metadata": {},
   "outputs": [
    {
     "name": "stdout",
     "output_type": "stream",
     "text": [
      "closed-form μ = \n",
      "[-0.0645071  -0.09033981 -0.1006849  -0.10482775 -0.10648677 -0.10715112\n",
      " -0.10741723 -0.10752376 -0.10756642 -0.10758352 -0.10759033 -0.10759313\n",
      " -0.10759421 -0.10759464 -0.10759483 -0.10759491 -0.10759489 -0.10759494\n",
      " -0.10759493 -0.10759493 -0.10759497 -0.10759491 -0.10759494 -0.10759494\n",
      " -0.10759494 -0.1075949  -0.10759493 -0.10759491 -0.10759497 -0.10759496\n",
      " -0.10759497 -0.10759491 -0.10759494 -0.10759491 -0.10759496 -0.10759495\n",
      " -0.10759493 -0.10759494 -0.10759494 -0.10759494]\n"
     ]
    }
   ],
   "source": [
    "def compute_μ(β, c, T, α=1, u0=1, u1=0.5, u2=3):    \n",
    "    h0, h1, h2 = compute_hs(u0, u1, u2, α)\n",
    "    \n",
    "    _, B = construct_B(α, T+1)\n",
    "    \n",
    "    β_vec = jnp.hstack([β**jnp.arange(T),\n",
    "                       (β**T/(1-β))])\n",
    "    \n",
    "    g = h1 * B.T @ β_vec\n",
    "    M = B.T @ (h2 * jnp.diag(β_vec)) @ B\n",
    "    F = c/2 * jnp.diag(β_vec)\n",
    "    G = M - F\n",
    "    return jnp.linalg.solve(2*G, -g)\n",
    "\n",
    "μ_closed = compute_μ(β=0.85, c=2, T=T-1)\n",
    "print(f'closed-form μ = \\n{μ_closed}')"
   ]
  },
  {
   "cell_type": "code",
   "execution_count": 29,
   "id": "81d91a6a",
   "metadata": {},
   "outputs": [
    {
     "name": "stdout",
     "output_type": "stream",
     "text": [
      "deviation = 1.2400236926168873e-07\n"
     ]
    }
   ],
   "source": [
    "print(f'deviation = {np.linalg.norm(μ_closed - clq.μ_series)}')"
   ]
  },
  {
   "cell_type": "code",
   "execution_count": 30,
   "id": "db4f4362",
   "metadata": {},
   "outputs": [
    {
     "data": {
      "text/plain": [
       "Array(6.8357825, dtype=float32)"
      ]
     },
     "execution_count": 30,
     "metadata": {},
     "output_type": "execute_result"
    }
   ],
   "source": [
    "compute_V(μ_closed, β=0.85, c=2)"
   ]
  },
  {
   "cell_type": "code",
   "execution_count": 31,
   "id": "4ff56bd5",
   "metadata": {},
   "outputs": [
    {
     "name": "stdout",
     "output_type": "stream",
     "text": [
      "deviation = 3.041078286969423e-07\n"
     ]
    }
   ],
   "source": [
    "print(f'deviation = {np.linalg.norm(B @ μ_closed - θs)}')"
   ]
  },
  {
   "cell_type": "code",
   "execution_count": 32,
   "id": "de61dbd7",
   "metadata": {},
   "outputs": [],
   "source": [
    "def compute_grad(μ, β, c, α=1, u0=1, u1=0.5, u2=3):    \n",
    "    T = len(μ) - 1\n",
    "    \n",
    "    h0, h1, h2 = compute_hs(u0, u1, u2, α)\n",
    "    \n",
    "    _, B = construct_B(α, T+1)\n",
    "    \n",
    "    β_vec = jnp.hstack([β**jnp.arange(T),\n",
    "                       (β**T/(1-β))])\n",
    "    \n",
    "    g = h1 * B.T @ β_vec\n",
    "    M = (h2 * B.T @ jnp.diag(β_vec) @ B)\n",
    "    F = c/2 * jnp.diag(β_vec)\n",
    "    G = M - F\n",
    "    return g + (2*G @ μ)\n",
    "\n",
    "closed_grad = compute_grad(jnp.ones(T), β=0.85, c=2)"
   ]
  },
  {
   "cell_type": "code",
   "execution_count": 33,
   "id": "08dc09ca",
   "metadata": {},
   "outputs": [
    {
     "data": {
      "text/plain": [
       "Array([-3.75      , -4.0625    , -3.8906248 , -3.5257814 , -3.1062894 ,\n",
       "       -2.6950338 , -2.3181221 , -1.9840758 , -1.6933005 , -1.4427234 ,\n",
       "       -1.2280239 , -1.0446748 , -0.8884009 , -0.7553545 , -0.64215815,\n",
       "       -0.5458878 , -0.4640314 , -0.39444003, -0.3352807 , -0.28499195,\n",
       "       -0.24224482, -0.20590895, -0.17502302, -0.14876978, -0.12645441,\n",
       "       -0.10748631, -0.09136339, -0.07765889, -0.06601007, -0.05610856,\n",
       "       -0.04769228, -0.04053845, -0.03445768, -0.02928903, -0.02489568,\n",
       "       -0.02116132, -0.01798713, -0.01528906, -0.0129957 , -0.07364223],      dtype=float32)"
      ]
     },
     "execution_count": 33,
     "metadata": {},
     "output_type": "execute_result"
    }
   ],
   "source": [
    "closed_grad"
   ]
  },
  {
   "cell_type": "code",
   "execution_count": 34,
   "id": "39d4e3cf",
   "metadata": {},
   "outputs": [
    {
     "data": {
      "text/plain": [
       "Array([-3.75      , -4.0625    , -3.890625  , -3.5257816 , -3.1062894 ,\n",
       "       -2.6950336 , -2.3181224 , -1.9840759 , -1.6933005 , -1.4427235 ,\n",
       "       -1.228024  , -1.0446749 , -0.8884009 , -0.7553544 , -0.6421581 ,\n",
       "       -0.54588777, -0.46403137, -0.39444   , -0.33528066, -0.28499192,\n",
       "       -0.24224481, -0.20590894, -0.175023  , -0.14876977, -0.12645441,\n",
       "       -0.10748631, -0.0913634 , -0.0776589 , -0.06601007, -0.05610857,\n",
       "       -0.04769228, -0.04053844, -0.03445768, -0.02928903, -0.02489568,\n",
       "       -0.02116132, -0.01798712, -0.01528906, -0.0129957 , -0.07364222],      dtype=float32)"
      ]
     },
     "execution_count": 34,
     "metadata": {},
     "output_type": "execute_result"
    }
   ],
   "source": [
    "- grad_J(jnp.ones(T))"
   ]
  },
  {
   "cell_type": "code",
   "execution_count": 35,
   "id": "251f7871",
   "metadata": {},
   "outputs": [
    {
     "name": "stdout",
     "output_type": "stream",
     "text": [
      "deviation = 5.571309884544462e-07\n"
     ]
    }
   ],
   "source": [
    "print(f'deviation = {np.linalg.norm(closed_grad - (- grad_J(jnp.ones(T))))}')"
   ]
  },
  {
   "cell_type": "code",
   "execution_count": 36,
   "id": "d5f3e76b",
   "metadata": {},
   "outputs": [
    {
     "data": {
      "image/png": "[encoded data removed]",
      "text/plain": [
       "<Figure size 640x480 with 1 Axes>"
      ]
     },
     "metadata": {},
     "output_type": "display_data"
    }
   ],
   "source": [
    "# Compute θ using optimized_μ\n",
    "θs = np.array(compute_θ(optimized_μ))\n",
    "μs = np.array(optimized_μ)\n",
    "\n",
    "# Plot the two sequences\n",
    "Ts = np.arange(T)\n",
    "\n",
    "plt.scatter(Ts, μs, label=r'$\\mu_t$', alpha=0.7)\n",
    "plt.scatter(Ts, θs, label=r'$\\theta_t$', alpha=0.7)\n",
    "plt.xlabel(r'$t$')\n",
    "plt.legend()\n",
    "plt.show()"
   ]
  },
  {
   "cell_type": "code",
   "execution_count": 37,
   "id": "fb8c7933",
   "metadata": {},
   "outputs": [],
   "source": [
    "# Define function for s and U in section 41.3\n",
    "def s(θ, μ, u0, u1, u2, α, c):\n",
    "    U = lambda x: u0 + u1 * x - (u2 / 2) * x**2\n",
    "    return U(-α*θ) - (c / 2) * μ**2\n",
    "\n",
    "# Calculate v_t sequence backward\n",
    "def compute_vt(μ, β, c, u0=1, u1=0.5, u2=3, α=1):\n",
    "    T = len(μs)\n",
    "    θ = compute_θ(μ, α)\n",
    "    \n",
    "    v_t = np.zeros(T)\n",
    "    μ_bar = μs[-1]\n",
    "    \n",
    "    # Reduce parameters\n",
    "    s_p = lambda θ, μ: s(θ, μ, \n",
    "                       u0=u0, u1=u1, u2=u2, α=α, c=c)\n",
    "    \n",
    "    # Define v_T\n",
    "    v_t[T-1] = (1 / (1 - β)) * s_p(μ_bar, μ_bar)\n",
    "    \n",
    "    # Backward iteration\n",
    "    for t in reversed(range(T-1)):\n",
    "        v_t[t] = s_p(θ[t], μ[t]) + β * v_t[t+1]\n",
    "        \n",
    "    return v_t\n",
    "\n",
    "v_t = compute_vt(μs, β=0.85, c=2)"
   ]
  },
  {
   "cell_type": "code",
   "execution_count": 38,
   "id": "e4db870f",
   "metadata": {},
   "outputs": [
    {
     "name": "stdout",
     "output_type": "stream",
     "text": [
      "deviation = 4.76837158203125e-07\n"
     ]
    }
   ],
   "source": [
    "print(f'deviation = {np.linalg.norm(v_t[0] - V_R)}')"
   ]
  },
  {
   "cell_type": "code",
   "execution_count": 39,
   "id": "72853199",
   "metadata": {
    "mystnb": {
     "figure": {
      "caption": "Continuation values",
      "name": "continuation_values"
     }
    }
   },
   "outputs": [
    {
     "data": {
      "image/png": "[encoded data removed]",
      "text/plain": [
       "<Figure size 640x480 with 1 Axes>"
      ]
     },
     "metadata": {},
     "output_type": "display_data"
    }
   ],
   "source": [
    "# Plot the scatter plot\n",
    "plt.scatter(Ts, v_t, label='$v_t$')\n",
    "\n",
    "# Plot horizontal lines\n",
    "plt.axhline(V_CR, color='C1', alpha=0.5)\n",
    "plt.axhline(V_R, color='C2', alpha=0.5)\n",
    "\n",
    "# Add labels\n",
    "plt.text(max(Ts) + max(Ts)*0.07, V_CR, '$V^{CR}$', color='C1', \n",
    "         va='center', clip_on=False, fontsize=15)\n",
    "plt.text(max(Ts) + max(Ts)*0.07, V_R, '$V^R$', color='C2', \n",
    "         va='center', clip_on=False, fontsize=15)\n",
    "plt.xlabel(r'$t$')\n",
    "plt.ylabel(r'$v_t$')\n",
    "\n",
    "plt.tight_layout()\n",
    "plt.show()"
   ]
  },
  {
   "cell_type": "code",
   "execution_count": 40,
   "id": "cdf159ba",
   "metadata": {},
   "outputs": [
    {
     "name": "stdout",
     "output_type": "stream",
     "text": [
      "Regression of μ_t on a constant and θ_t:\n",
      "                            OLS Regression Results                            \n",
      "==============================================================================\n",
      "Dep. Variable:                      y   R-squared:                       1.000\n",
      "Model:                            OLS   Adj. R-squared:                  1.000\n",
      "No. Observations:                  40   F-statistic:                 1.531e+13\n",
      "Covariance Type:            nonrobust   Prob (F-statistic):          4.07e-222\n",
      "==============================================================================\n",
      "                 coef    std err          t      P>|t|      [0.025      0.975]\n",
      "------------------------------------------------------------------------------\n",
      "const          0.0645   4.36e-08   1.48e+06      0.000       0.065       0.065\n",
      "x1             1.5995   4.09e-07   3.91e+06      0.000       1.600       1.600\n",
      "==============================================================================\n",
      "\n",
      "Notes:\n",
      "[1] Standard Errors assume that the covariance matrix of the errors is correctly specified.\n"
     ]
    }
   ],
   "source": [
    "# First regression: μ_t on a constant and θ_t\n",
    "X1_θ = sm.add_constant(θs)\n",
    "model1 = sm.OLS(μs, X1_θ)\n",
    "results1 = model1.fit()\n",
    "\n",
    "# Print regression summary\n",
    "print(\"Regression of μ_t on a constant and θ_t:\")\n",
    "print(results1.summary(slim=True))"
   ]
  },
  {
   "cell_type": "code",
   "execution_count": 41,
   "id": "851f863a",
   "metadata": {},
   "outputs": [
    {
     "name": "stderr",
     "output_type": "stream",
     "text": [
      "<>:2: SyntaxWarning: invalid escape sequence '\\h'\n",
      "<>:2: SyntaxWarning: invalid escape sequence '\\h'\n",
      "/var/folders/zy/dpt7pvt11fvcm_yxjd7kmv880000gn/T/ipykernel_55684/68086905.py:2: SyntaxWarning: invalid escape sequence '\\h'\n",
      "  plt.plot(θs, results1.predict(X1_θ), 'grey', label='$\\hat \\mu_t$', linestyle='--')\n"
     ]
    },
    {
     "data": {
      "image/png": "[encoded data removed]",
      "text/plain": [
       "<Figure size 640x480 with 1 Axes>"
      ]
     },
     "metadata": {},
     "output_type": "display_data"
    }
   ],
   "source": [
    "plt.scatter(θs, μs, label=r'$\\mu_t$')\n",
    "plt.plot(θs, results1.predict(X1_θ), 'grey', label='$\\hat \\mu_t$', linestyle='--')\n",
    "plt.xlabel(r'$\\theta_t$')\n",
    "plt.ylabel(r'$\\mu_t$')\n",
    "plt.legend()\n",
    "plt.show()"
   ]
  },
  {
   "cell_type": "code",
   "execution_count": 42,
   "id": "229e27a6",
   "metadata": {},
   "outputs": [
    {
     "name": "stdout",
     "output_type": "stream",
     "text": [
      "\n",
      "Regression of θ_{t+1} on a constant and θ_t:\n",
      "                            OLS Regression Results                            \n",
      "==============================================================================\n",
      "Dep. Variable:                      y   R-squared:                       1.000\n",
      "Model:                            OLS   Adj. R-squared:                  1.000\n",
      "No. Observations:                  39   F-statistic:                 8.747e+11\n",
      "Covariance Type:            nonrobust   Prob (F-statistic):          1.59e-193\n",
      "==============================================================================\n",
      "                 coef    std err          t      P>|t|      [0.025      0.975]\n",
      "------------------------------------------------------------------------------\n",
      "const         -0.0645   4.56e-08  -1.41e+06      0.000      -0.065      -0.065\n",
      "x1             0.4005   4.28e-07   9.35e+05      0.000       0.400       0.400\n",
      "==============================================================================\n",
      "\n",
      "Notes:\n",
      "[1] Standard Errors assume that the covariance matrix of the errors is correctly specified.\n"
     ]
    }
   ],
   "source": [
    "# Second regression: θ_{t+1} on a constant and θ_t\n",
    "θ_t = np.array(θs[:-1])  # θ_t\n",
    "θ_t1 = np.array(θs[1:])  # θ_{t+1}\n",
    "X2_θ = sm.add_constant(θ_t)  # Add a constant term for the intercept\n",
    "model2 = sm.OLS(θ_t1, X2_θ)\n",
    "results2 = model2.fit()\n",
    "\n",
    "# Print regression summary\n",
    "print(\"\\nRegression of θ_{t+1} on a constant and θ_t:\")\n",
    "print(results2.summary(slim=True))"
   ]
  },
  {
   "cell_type": "code",
   "execution_count": 43,
   "id": "e135c4a7",
   "metadata": {},
   "outputs": [
    {
     "name": "stderr",
     "output_type": "stream",
     "text": [
      "<>:2: SyntaxWarning: invalid escape sequence '\\h'\n",
      "<>:2: SyntaxWarning: invalid escape sequence '\\h'\n",
      "/var/folders/zy/dpt7pvt11fvcm_yxjd7kmv880000gn/T/ipykernel_55684/154331351.py:2: SyntaxWarning: invalid escape sequence '\\h'\n",
      "  plt.plot(θ_t, results2.predict(X2_θ), color='grey', label='$\\hat θ_{t+1}$', linestyle='--')\n"
     ]
    },
    {
     "data": {
      "image/png": "[encoded data removed]",
      "text/plain": [
       "<Figure size 640x480 with 1 Axes>"
      ]
     },
     "metadata": {},
     "output_type": "display_data"
    }
   ],
   "source": [
    "plt.scatter(θ_t, θ_t1, label=r'$\\theta_{t+1}$')\n",
    "plt.plot(θ_t, results2.predict(X2_θ), color='grey', label='$\\hat θ_{t+1}$', linestyle='--')\n",
    "plt.xlabel(r'$\\theta_t$')\n",
    "plt.ylabel(r'$\\theta_{t+1}$')\n",
    "plt.legend()\n",
    "\n",
    "plt.tight_layout()\n",
    "plt.show()"
   ]
  },
  {
   "cell_type": "code",
   "execution_count": 44,
   "id": "5a3a2b95",
   "metadata": {},
   "outputs": [
    {
     "name": "stdout",
     "output_type": "stream",
     "text": [
      "\n",
      "Regression of v_t on a constant, θ_t and θ^2_t:\n",
      "                            OLS Regression Results                            \n",
      "==============================================================================\n",
      "Dep. Variable:                      y   R-squared:                       1.000\n",
      "Model:                            OLS   Adj. R-squared:                  1.000\n",
      "No. Observations:                  40   F-statistic:                 5.514e+08\n",
      "Covariance Type:            nonrobust   Prob (F-statistic):          5.31e-139\n",
      "==============================================================================\n",
      "                 coef    std err          t      P>|t|      [0.025      0.975]\n",
      "------------------------------------------------------------------------------\n",
      "const          6.8052   5.89e-06   1.15e+06      0.000       6.805       6.805\n",
      "x1            -0.7581      0.000  -6051.126      0.000      -0.758      -0.758\n",
      "x2            -4.6996      0.001  -7158.090      0.000      -4.701      -4.698\n",
      "==============================================================================\n",
      "\n",
      "Notes:\n",
      "[1] Standard Errors assume that the covariance matrix of the errors is correctly specified.\n",
      "[2] The condition number is large, 3.5e+04. This might indicate that there are\n",
      "strong multicollinearity or other numerical problems.\n"
     ]
    }
   ],
   "source": [
    "# Third regression: v_t on a constant, θ_t and θ^2_t\n",
    "X3_θ = np.column_stack((np.ones(T), θs, θs**2))\n",
    "model3 = sm.OLS(v_t, X3_θ)\n",
    "results3 = model3.fit()\n",
    "\n",
    "\n",
    "# Print regression summary\n",
    "print(\"\\nRegression of v_t on a constant, θ_t and θ^2_t:\")\n",
    "print(results3.summary(slim=True))"
   ]
  },
  {
   "cell_type": "code",
   "execution_count": 45,
   "id": "bfbf3615",
   "metadata": {},
   "outputs": [
    {
     "data": {
      "text/plain": [
       "array([[ 1.        , -0.99942155],\n",
       "       [-0.99942155,  1.        ]])"
      ]
     },
     "execution_count": 45,
     "metadata": {},
     "output_type": "execute_result"
    }
   ],
   "source": [
    "np.corrcoef(θs, θs**2)"
   ]
  },
  {
   "cell_type": "code",
   "execution_count": 46,
   "id": "23a6da3b",
   "metadata": {},
   "outputs": [
    {
     "name": "stderr",
     "output_type": "stream",
     "text": [
      "<>:6: SyntaxWarning: invalid escape sequence '\\h'\n",
      "<>:6: SyntaxWarning: invalid escape sequence '\\h'\n",
      "/var/folders/zy/dpt7pvt11fvcm_yxjd7kmv880000gn/T/ipykernel_55684/203801373.py:6: SyntaxWarning: invalid escape sequence '\\h'\n",
      "  label='$\\hat v_t$', linestyle='--')\n"
     ]
    },
    {
     "data": {
      "image/png": "[encoded data removed]",
      "text/plain": [
       "<Figure size 640x480 with 1 Axes>"
      ]
     },
     "metadata": {},
     "output_type": "display_data"
    }
   ],
   "source": [
    "θ_grid = np.linspace(min(θs), max(θs), 100)\n",
    "X3_grid = np.column_stack((np.ones(len(θ_grid)), θ_grid, θ_grid**2))\n",
    "\n",
    "plt.scatter(θs, v_t)\n",
    "plt.plot(θ_grid, results3.predict(X3_grid), color='grey', \n",
    "         label='$\\hat v_t$', linestyle='--')\n",
    "plt.axhline(V_CR, color='C1', alpha=0.5)\n",
    "\n",
    "plt.text(max(θ_grid) - max(θ_grid)*0.025, V_CR, '$V^{CR}$', color='C1', \n",
    "         va='center', clip_on=False, fontsize=15)\n",
    "\n",
    "plt.xlabel(r'$\\theta_{t}$')\n",
    "plt.ylabel(r'$v_t$')\n",
    "plt.legend()\n",
    "\n",
    "plt.tight_layout()\n",
    "plt.show()"
   ]
  },
  {
   "cell_type": "code",
   "execution_count": 47,
   "id": "46db7b51",
   "metadata": {},
   "outputs": [],
   "source": [
    "clq = ChangLQ(β=0.85, c=2, T=T)"
   ]
  },
  {
   "cell_type": "code",
   "execution_count": 48,
   "id": "445d97a0",
   "metadata": {},
   "outputs": [
    {
     "name": "stdout",
     "output_type": "stream",
     "text": [
      "decision rule for μ\n",
      "-(b_0, b_1) = (0.064507, 1.599536)\n"
     ]
    }
   ],
   "source": [
    "print(\"decision rule for μ\")\n",
    "print(f'-(b_0, b_1) = ({-clq.b0:.6f}, {-clq.b1:.6f})')"
   ]
  },
  {
   "cell_type": "code",
   "execution_count": 49,
   "id": "7aadfa5d",
   "metadata": {},
   "outputs": [
    {
     "name": "stdout",
     "output_type": "stream",
     "text": [
      "decision rule for θ(t+1) as function of θ(t)\n",
      "(d_0, d_1) =  (-0.064507, 0.400464)\n"
     ]
    }
   ],
   "source": [
    "print(\"decision rule for θ(t+1) as function of θ(t)\")\n",
    "print(f'(d_0, d_1) =  ({clq.d0:.6f}, {clq.d1:.6f})')"
   ]
  }
 ],
 "metadata": {
  "jupytext": {
   "text_representation": {
    "extension": ".md",
    "format_name": "myst",
    "format_version": 0.13,
    "jupytext_version": "1.16.1"
   }
  },
  "kernelspec": {
   "display_name": "Python 3 (ipykernel)",
   "language": "python",
   "name": "python3"
  },
  "language_info": {
   "codemirror_mode": {
    "name": "ipython",
    "version": 3
   },
   "file_extension": ".py",
   "mimetype": "text/x-python",
   "name": "python",
   "nbconvert_exporter": "python",
   "pygments_lexer": "ipython3",
   "version": "3.12.7"
  },
  "source_map": [
   12,
   409,
   417,
   425,
   434,
   548,
   552,
   558,
   608,
   613,
   619,
   650,
   654,
   665,
   674,
   678,
   682,
   686,
   688,
   703,
   715,
   719,
   723,
   728,
   730,
   812,
   823,
   829,
   835,
   837,
   921,
   941,
   950,
   959,
   963,
   967,
   970,
   976,
   995,
   999,
   1003,
   1005,
   1009,
   1029,
   1033,
   1037,
   1039,
   1045,
   1058,
   1084,
   1112,
   1120,
   1122,
   1126,
   1150,
   1205,
   1214,
   1231,
   1238,
   1249,
   1260,
   1272,
   1281,
   1293,
   1303,
   1312,
   1314,
   1318,
   1336,
   1432,
   1434,
   1438,
   1441,
   1445,
   1448
  ]
 },
 "nbformat": 4,
 "nbformat_minor": 5
}